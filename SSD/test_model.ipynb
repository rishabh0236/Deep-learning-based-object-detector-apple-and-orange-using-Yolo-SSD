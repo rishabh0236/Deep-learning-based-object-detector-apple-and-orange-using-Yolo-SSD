{
 "cells": [
  {
   "cell_type": "code",
   "execution_count": 15,
   "id": "eaca8418",
   "metadata": {},
   "outputs": [],
   "source": [
    "import glob\n",
    "from PIL import Image"
   ]
  },
  {
   "cell_type": "code",
   "execution_count": 16,
   "id": "9bb72a98",
   "metadata": {},
   "outputs": [],
   "source": [
    "path='D:\\books\\4th year 2nd sem books\\bs project\\dataset\\final code\\scenes'"
   ]
  },
  {
   "cell_type": "code",
   "execution_count": 17,
   "id": "c6c428c7",
   "metadata": {},
   "outputs": [],
   "source": [
    "for i in glob.glob(path + '/*.png'):\n",
    "    img=Image.open(i)\n",
    "    rgb=img.convert('RGB')\n",
    "    rgb.save(i)\n",
    "    \n",
    "    "
   ]
  },
  {
   "cell_type": "code",
   "execution_count": null,
   "id": "5f824d86",
   "metadata": {},
   "outputs": [],
   "source": [
    "\n",
    "#importing required packages and library\n",
    "import cv2\n",
    "  \n",
    "# Loading .png image\n",
    "png_img = cv2.imread('img.png')\n",
    "  \n",
    "# converting to jpg file\n",
    "#saving the jpg file\n",
    "cv2.imwrite('modified_img.jpg', png_img, [int(cv2.IMWRITE_JPEG_QUALITY), 100])"
   ]
  }
 ],
 "metadata": {
  "kernelspec": {
   "display_name": "Python 3 (ipykernel)",
   "language": "python",
   "name": "python3"
  },
  "language_info": {
   "codemirror_mode": {
    "name": "ipython",
    "version": 3
   },
   "file_extension": ".py",
   "mimetype": "text/x-python",
   "name": "python",
   "nbconvert_exporter": "python",
   "pygments_lexer": "ipython3",
   "version": "3.8.8"
  }
 },
 "nbformat": 4,
 "nbformat_minor": 5
}
